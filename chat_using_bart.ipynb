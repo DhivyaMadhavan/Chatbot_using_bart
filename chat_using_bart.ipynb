{
  "nbformat": 4,
  "nbformat_minor": 0,
  "metadata": {
    "colab": {
      "provenance": [],
      "toc_visible": true,
      "gpuType": "T4",
      "authorship_tag": "ABX9TyOifs+m1dUTX6qVA/G10iH2",
      "include_colab_link": true
    },
    "kernelspec": {
      "name": "python3",
      "display_name": "Python 3"
    },
    "language_info": {
      "name": "python"
    },
    "widgets": {
      "application/vnd.jupyter.widget-state+json": {
        "e8a5a2876fba41b9bdaa14ee886b8fa5": {
          "model_module": "@jupyter-widgets/controls",
          "model_name": "HBoxModel",
          "model_module_version": "1.5.0",
          "state": {
            "_dom_classes": [],
            "_model_module": "@jupyter-widgets/controls",
            "_model_module_version": "1.5.0",
            "_model_name": "HBoxModel",
            "_view_count": null,
            "_view_module": "@jupyter-widgets/controls",
            "_view_module_version": "1.5.0",
            "_view_name": "HBoxView",
            "box_style": "",
            "children": [
              "IPY_MODEL_a151e22fda77450ba2d53877887a09f4",
              "IPY_MODEL_f0998dd137c94867a8f39ef0b0360333",
              "IPY_MODEL_7721313beb37488e9038a1f37dc1206f"
            ],
            "layout": "IPY_MODEL_55fcdafb27e0487fa1df9b51c66ff542"
          }
        },
        "a151e22fda77450ba2d53877887a09f4": {
          "model_module": "@jupyter-widgets/controls",
          "model_name": "HTMLModel",
          "model_module_version": "1.5.0",
          "state": {
            "_dom_classes": [],
            "_model_module": "@jupyter-widgets/controls",
            "_model_module_version": "1.5.0",
            "_model_name": "HTMLModel",
            "_view_count": null,
            "_view_module": "@jupyter-widgets/controls",
            "_view_module_version": "1.5.0",
            "_view_name": "HTMLView",
            "description": "",
            "description_tooltip": null,
            "layout": "IPY_MODEL_ac1a0cc1a3e846dd984565321a88defa",
            "placeholder": "​",
            "style": "IPY_MODEL_bab4ebeae36a45b382fcb7fd77a26390",
            "value": "Map: 100%"
          }
        },
        "f0998dd137c94867a8f39ef0b0360333": {
          "model_module": "@jupyter-widgets/controls",
          "model_name": "FloatProgressModel",
          "model_module_version": "1.5.0",
          "state": {
            "_dom_classes": [],
            "_model_module": "@jupyter-widgets/controls",
            "_model_module_version": "1.5.0",
            "_model_name": "FloatProgressModel",
            "_view_count": null,
            "_view_module": "@jupyter-widgets/controls",
            "_view_module_version": "1.5.0",
            "_view_name": "ProgressView",
            "bar_style": "success",
            "description": "",
            "description_tooltip": null,
            "layout": "IPY_MODEL_051941978c3044eb9381f7b955023118",
            "max": 92,
            "min": 0,
            "orientation": "horizontal",
            "style": "IPY_MODEL_4c96af906b8348ca88843c65777d71c1",
            "value": 92
          }
        },
        "7721313beb37488e9038a1f37dc1206f": {
          "model_module": "@jupyter-widgets/controls",
          "model_name": "HTMLModel",
          "model_module_version": "1.5.0",
          "state": {
            "_dom_classes": [],
            "_model_module": "@jupyter-widgets/controls",
            "_model_module_version": "1.5.0",
            "_model_name": "HTMLModel",
            "_view_count": null,
            "_view_module": "@jupyter-widgets/controls",
            "_view_module_version": "1.5.0",
            "_view_name": "HTMLView",
            "description": "",
            "description_tooltip": null,
            "layout": "IPY_MODEL_f96667a7e248461fbfb76082f50777ab",
            "placeholder": "​",
            "style": "IPY_MODEL_171060112267499aa0b33b17a5f95193",
            "value": " 92/92 [00:00&lt;00:00, 978.60 examples/s]"
          }
        },
        "55fcdafb27e0487fa1df9b51c66ff542": {
          "model_module": "@jupyter-widgets/base",
          "model_name": "LayoutModel",
          "model_module_version": "1.2.0",
          "state": {
            "_model_module": "@jupyter-widgets/base",
            "_model_module_version": "1.2.0",
            "_model_name": "LayoutModel",
            "_view_count": null,
            "_view_module": "@jupyter-widgets/base",
            "_view_module_version": "1.2.0",
            "_view_name": "LayoutView",
            "align_content": null,
            "align_items": null,
            "align_self": null,
            "border": null,
            "bottom": null,
            "display": null,
            "flex": null,
            "flex_flow": null,
            "grid_area": null,
            "grid_auto_columns": null,
            "grid_auto_flow": null,
            "grid_auto_rows": null,
            "grid_column": null,
            "grid_gap": null,
            "grid_row": null,
            "grid_template_areas": null,
            "grid_template_columns": null,
            "grid_template_rows": null,
            "height": null,
            "justify_content": null,
            "justify_items": null,
            "left": null,
            "margin": null,
            "max_height": null,
            "max_width": null,
            "min_height": null,
            "min_width": null,
            "object_fit": null,
            "object_position": null,
            "order": null,
            "overflow": null,
            "overflow_x": null,
            "overflow_y": null,
            "padding": null,
            "right": null,
            "top": null,
            "visibility": null,
            "width": null
          }
        },
        "ac1a0cc1a3e846dd984565321a88defa": {
          "model_module": "@jupyter-widgets/base",
          "model_name": "LayoutModel",
          "model_module_version": "1.2.0",
          "state": {
            "_model_module": "@jupyter-widgets/base",
            "_model_module_version": "1.2.0",
            "_model_name": "LayoutModel",
            "_view_count": null,
            "_view_module": "@jupyter-widgets/base",
            "_view_module_version": "1.2.0",
            "_view_name": "LayoutView",
            "align_content": null,
            "align_items": null,
            "align_self": null,
            "border": null,
            "bottom": null,
            "display": null,
            "flex": null,
            "flex_flow": null,
            "grid_area": null,
            "grid_auto_columns": null,
            "grid_auto_flow": null,
            "grid_auto_rows": null,
            "grid_column": null,
            "grid_gap": null,
            "grid_row": null,
            "grid_template_areas": null,
            "grid_template_columns": null,
            "grid_template_rows": null,
            "height": null,
            "justify_content": null,
            "justify_items": null,
            "left": null,
            "margin": null,
            "max_height": null,
            "max_width": null,
            "min_height": null,
            "min_width": null,
            "object_fit": null,
            "object_position": null,
            "order": null,
            "overflow": null,
            "overflow_x": null,
            "overflow_y": null,
            "padding": null,
            "right": null,
            "top": null,
            "visibility": null,
            "width": null
          }
        },
        "bab4ebeae36a45b382fcb7fd77a26390": {
          "model_module": "@jupyter-widgets/controls",
          "model_name": "DescriptionStyleModel",
          "model_module_version": "1.5.0",
          "state": {
            "_model_module": "@jupyter-widgets/controls",
            "_model_module_version": "1.5.0",
            "_model_name": "DescriptionStyleModel",
            "_view_count": null,
            "_view_module": "@jupyter-widgets/base",
            "_view_module_version": "1.2.0",
            "_view_name": "StyleView",
            "description_width": ""
          }
        },
        "051941978c3044eb9381f7b955023118": {
          "model_module": "@jupyter-widgets/base",
          "model_name": "LayoutModel",
          "model_module_version": "1.2.0",
          "state": {
            "_model_module": "@jupyter-widgets/base",
            "_model_module_version": "1.2.0",
            "_model_name": "LayoutModel",
            "_view_count": null,
            "_view_module": "@jupyter-widgets/base",
            "_view_module_version": "1.2.0",
            "_view_name": "LayoutView",
            "align_content": null,
            "align_items": null,
            "align_self": null,
            "border": null,
            "bottom": null,
            "display": null,
            "flex": null,
            "flex_flow": null,
            "grid_area": null,
            "grid_auto_columns": null,
            "grid_auto_flow": null,
            "grid_auto_rows": null,
            "grid_column": null,
            "grid_gap": null,
            "grid_row": null,
            "grid_template_areas": null,
            "grid_template_columns": null,
            "grid_template_rows": null,
            "height": null,
            "justify_content": null,
            "justify_items": null,
            "left": null,
            "margin": null,
            "max_height": null,
            "max_width": null,
            "min_height": null,
            "min_width": null,
            "object_fit": null,
            "object_position": null,
            "order": null,
            "overflow": null,
            "overflow_x": null,
            "overflow_y": null,
            "padding": null,
            "right": null,
            "top": null,
            "visibility": null,
            "width": null
          }
        },
        "4c96af906b8348ca88843c65777d71c1": {
          "model_module": "@jupyter-widgets/controls",
          "model_name": "ProgressStyleModel",
          "model_module_version": "1.5.0",
          "state": {
            "_model_module": "@jupyter-widgets/controls",
            "_model_module_version": "1.5.0",
            "_model_name": "ProgressStyleModel",
            "_view_count": null,
            "_view_module": "@jupyter-widgets/base",
            "_view_module_version": "1.2.0",
            "_view_name": "StyleView",
            "bar_color": null,
            "description_width": ""
          }
        },
        "f96667a7e248461fbfb76082f50777ab": {
          "model_module": "@jupyter-widgets/base",
          "model_name": "LayoutModel",
          "model_module_version": "1.2.0",
          "state": {
            "_model_module": "@jupyter-widgets/base",
            "_model_module_version": "1.2.0",
            "_model_name": "LayoutModel",
            "_view_count": null,
            "_view_module": "@jupyter-widgets/base",
            "_view_module_version": "1.2.0",
            "_view_name": "LayoutView",
            "align_content": null,
            "align_items": null,
            "align_self": null,
            "border": null,
            "bottom": null,
            "display": null,
            "flex": null,
            "flex_flow": null,
            "grid_area": null,
            "grid_auto_columns": null,
            "grid_auto_flow": null,
            "grid_auto_rows": null,
            "grid_column": null,
            "grid_gap": null,
            "grid_row": null,
            "grid_template_areas": null,
            "grid_template_columns": null,
            "grid_template_rows": null,
            "height": null,
            "justify_content": null,
            "justify_items": null,
            "left": null,
            "margin": null,
            "max_height": null,
            "max_width": null,
            "min_height": null,
            "min_width": null,
            "object_fit": null,
            "object_position": null,
            "order": null,
            "overflow": null,
            "overflow_x": null,
            "overflow_y": null,
            "padding": null,
            "right": null,
            "top": null,
            "visibility": null,
            "width": null
          }
        },
        "171060112267499aa0b33b17a5f95193": {
          "model_module": "@jupyter-widgets/controls",
          "model_name": "DescriptionStyleModel",
          "model_module_version": "1.5.0",
          "state": {
            "_model_module": "@jupyter-widgets/controls",
            "_model_module_version": "1.5.0",
            "_model_name": "DescriptionStyleModel",
            "_view_count": null,
            "_view_module": "@jupyter-widgets/base",
            "_view_module_version": "1.2.0",
            "_view_name": "StyleView",
            "description_width": ""
          }
        }
      }
    },
    "accelerator": "GPU"
  },
  "cells": [
    {
      "cell_type": "markdown",
      "metadata": {
        "id": "view-in-github",
        "colab_type": "text"
      },
      "source": [
        "<a href=\"https://colab.research.google.com/github/DhivyaMadhavan/Chatbot_using_bart/blob/main/chat_using_bart.ipynb\" target=\"_parent\"><img src=\"https://colab.research.google.com/assets/colab-badge.svg\" alt=\"Open In Colab\"/></a>"
      ]
    },
    {
      "cell_type": "code",
      "source": [
        "pip install datasets"
      ],
      "metadata": {
        "colab": {
          "base_uri": "https://localhost:8080/"
        },
        "id": "GcAeb_ABJpTN",
        "outputId": "1b3360b1-102d-4719-c6d5-982f007f7a58"
      },
      "execution_count": null,
      "outputs": [
        {
          "output_type": "stream",
          "name": "stdout",
          "text": [
            "Collecting datasets\n",
            "  Downloading datasets-2.20.0-py3-none-any.whl.metadata (19 kB)\n",
            "Requirement already satisfied: filelock in /usr/local/lib/python3.10/dist-packages (from datasets) (3.15.4)\n",
            "Requirement already satisfied: numpy>=1.17 in /usr/local/lib/python3.10/dist-packages (from datasets) (1.25.2)\n",
            "Collecting pyarrow>=15.0.0 (from datasets)\n",
            "  Downloading pyarrow-17.0.0-cp310-cp310-manylinux_2_28_x86_64.whl.metadata (3.3 kB)\n",
            "Requirement already satisfied: pyarrow-hotfix in /usr/local/lib/python3.10/dist-packages (from datasets) (0.6)\n",
            "Collecting dill<0.3.9,>=0.3.0 (from datasets)\n",
            "  Downloading dill-0.3.8-py3-none-any.whl.metadata (10 kB)\n",
            "Requirement already satisfied: pandas in /usr/local/lib/python3.10/dist-packages (from datasets) (2.0.3)\n",
            "Collecting requests>=2.32.2 (from datasets)\n",
            "  Downloading requests-2.32.3-py3-none-any.whl.metadata (4.6 kB)\n",
            "Requirement already satisfied: tqdm>=4.66.3 in /usr/local/lib/python3.10/dist-packages (from datasets) (4.66.4)\n",
            "Collecting xxhash (from datasets)\n",
            "  Downloading xxhash-3.4.1-cp310-cp310-manylinux_2_17_x86_64.manylinux2014_x86_64.whl.metadata (12 kB)\n",
            "Collecting multiprocess (from datasets)\n",
            "  Downloading multiprocess-0.70.16-py310-none-any.whl.metadata (7.2 kB)\n",
            "Requirement already satisfied: fsspec<=2024.5.0,>=2023.1.0 in /usr/local/lib/python3.10/dist-packages (from fsspec[http]<=2024.5.0,>=2023.1.0->datasets) (2023.6.0)\n",
            "Requirement already satisfied: aiohttp in /usr/local/lib/python3.10/dist-packages (from datasets) (3.9.5)\n",
            "Requirement already satisfied: huggingface-hub>=0.21.2 in /usr/local/lib/python3.10/dist-packages (from datasets) (0.23.5)\n",
            "Requirement already satisfied: packaging in /usr/local/lib/python3.10/dist-packages (from datasets) (24.1)\n",
            "Requirement already satisfied: pyyaml>=5.1 in /usr/local/lib/python3.10/dist-packages (from datasets) (6.0.1)\n",
            "Requirement already satisfied: aiosignal>=1.1.2 in /usr/local/lib/python3.10/dist-packages (from aiohttp->datasets) (1.3.1)\n",
            "Requirement already satisfied: attrs>=17.3.0 in /usr/local/lib/python3.10/dist-packages (from aiohttp->datasets) (23.2.0)\n",
            "Requirement already satisfied: frozenlist>=1.1.1 in /usr/local/lib/python3.10/dist-packages (from aiohttp->datasets) (1.4.1)\n",
            "Requirement already satisfied: multidict<7.0,>=4.5 in /usr/local/lib/python3.10/dist-packages (from aiohttp->datasets) (6.0.5)\n",
            "Requirement already satisfied: yarl<2.0,>=1.0 in /usr/local/lib/python3.10/dist-packages (from aiohttp->datasets) (1.9.4)\n",
            "Requirement already satisfied: async-timeout<5.0,>=4.0 in /usr/local/lib/python3.10/dist-packages (from aiohttp->datasets) (4.0.3)\n",
            "Requirement already satisfied: typing-extensions>=3.7.4.3 in /usr/local/lib/python3.10/dist-packages (from huggingface-hub>=0.21.2->datasets) (4.12.2)\n",
            "Requirement already satisfied: charset-normalizer<4,>=2 in /usr/local/lib/python3.10/dist-packages (from requests>=2.32.2->datasets) (3.3.2)\n",
            "Requirement already satisfied: idna<4,>=2.5 in /usr/local/lib/python3.10/dist-packages (from requests>=2.32.2->datasets) (3.7)\n",
            "Requirement already satisfied: urllib3<3,>=1.21.1 in /usr/local/lib/python3.10/dist-packages (from requests>=2.32.2->datasets) (2.0.7)\n",
            "Requirement already satisfied: certifi>=2017.4.17 in /usr/local/lib/python3.10/dist-packages (from requests>=2.32.2->datasets) (2024.7.4)\n",
            "Requirement already satisfied: python-dateutil>=2.8.2 in /usr/local/lib/python3.10/dist-packages (from pandas->datasets) (2.8.2)\n",
            "Requirement already satisfied: pytz>=2020.1 in /usr/local/lib/python3.10/dist-packages (from pandas->datasets) (2023.4)\n",
            "Requirement already satisfied: tzdata>=2022.1 in /usr/local/lib/python3.10/dist-packages (from pandas->datasets) (2024.1)\n",
            "Requirement already satisfied: six>=1.5 in /usr/local/lib/python3.10/dist-packages (from python-dateutil>=2.8.2->pandas->datasets) (1.16.0)\n",
            "Downloading datasets-2.20.0-py3-none-any.whl (547 kB)\n",
            "\u001b[2K   \u001b[90m━━━━━━━━━━━━━━━━━━━━━━━━━━━━━━━━━━━━━━━━\u001b[0m \u001b[32m547.8/547.8 kB\u001b[0m \u001b[31m13.9 MB/s\u001b[0m eta \u001b[36m0:00:00\u001b[0m\n",
            "\u001b[?25hDownloading dill-0.3.8-py3-none-any.whl (116 kB)\n",
            "\u001b[2K   \u001b[90m━━━━━━━━━━━━━━━━━━━━━━━━━━━━━━━━━━━━━━━━\u001b[0m \u001b[32m116.3/116.3 kB\u001b[0m \u001b[31m10.9 MB/s\u001b[0m eta \u001b[36m0:00:00\u001b[0m\n",
            "\u001b[?25hDownloading pyarrow-17.0.0-cp310-cp310-manylinux_2_28_x86_64.whl (39.9 MB)\n",
            "\u001b[2K   \u001b[90m━━━━━━━━━━━━━━━━━━━━━━━━━━━━━━━━━━━━━━━━\u001b[0m \u001b[32m39.9/39.9 MB\u001b[0m \u001b[31m18.8 MB/s\u001b[0m eta \u001b[36m0:00:00\u001b[0m\n",
            "\u001b[?25hDownloading requests-2.32.3-py3-none-any.whl (64 kB)\n",
            "\u001b[2K   \u001b[90m━━━━━━━━━━━━━━━━━━━━━━━━━━━━━━━━━━━━━━━━\u001b[0m \u001b[32m64.9/64.9 kB\u001b[0m \u001b[31m6.2 MB/s\u001b[0m eta \u001b[36m0:00:00\u001b[0m\n",
            "\u001b[?25hDownloading multiprocess-0.70.16-py310-none-any.whl (134 kB)\n",
            "\u001b[2K   \u001b[90m━━━━━━━━━━━━━━━━━━━━━━━━━━━━━━━━━━━━━━━━\u001b[0m \u001b[32m134.8/134.8 kB\u001b[0m \u001b[31m13.6 MB/s\u001b[0m eta \u001b[36m0:00:00\u001b[0m\n",
            "\u001b[?25hDownloading xxhash-3.4.1-cp310-cp310-manylinux_2_17_x86_64.manylinux2014_x86_64.whl (194 kB)\n",
            "\u001b[2K   \u001b[90m━━━━━━━━━━━━━━━━━━━━━━━━━━━━━━━━━━━━━━━━\u001b[0m \u001b[32m194.1/194.1 kB\u001b[0m \u001b[31m18.2 MB/s\u001b[0m eta \u001b[36m0:00:00\u001b[0m\n",
            "\u001b[?25hInstalling collected packages: xxhash, requests, pyarrow, dill, multiprocess, datasets\n",
            "  Attempting uninstall: requests\n",
            "    Found existing installation: requests 2.31.0\n",
            "    Uninstalling requests-2.31.0:\n",
            "      Successfully uninstalled requests-2.31.0\n",
            "  Attempting uninstall: pyarrow\n",
            "    Found existing installation: pyarrow 14.0.2\n",
            "    Uninstalling pyarrow-14.0.2:\n",
            "      Successfully uninstalled pyarrow-14.0.2\n",
            "\u001b[31mERROR: pip's dependency resolver does not currently take into account all the packages that are installed. This behaviour is the source of the following dependency conflicts.\n",
            "cudf-cu12 24.4.1 requires pyarrow<15.0.0a0,>=14.0.1, but you have pyarrow 17.0.0 which is incompatible.\n",
            "google-colab 1.0.0 requires requests==2.31.0, but you have requests 2.32.3 which is incompatible.\n",
            "ibis-framework 8.0.0 requires pyarrow<16,>=2, but you have pyarrow 17.0.0 which is incompatible.\u001b[0m\u001b[31m\n",
            "\u001b[0mSuccessfully installed datasets-2.20.0 dill-0.3.8 multiprocess-0.70.16 pyarrow-17.0.0 requests-2.32.3 xxhash-3.4.1\n"
          ]
        }
      ]
    },
    {
      "cell_type": "code",
      "execution_count": null,
      "metadata": {
        "colab": {
          "base_uri": "https://localhost:8080/",
          "height": 214,
          "referenced_widgets": [
            "e8a5a2876fba41b9bdaa14ee886b8fa5",
            "a151e22fda77450ba2d53877887a09f4",
            "f0998dd137c94867a8f39ef0b0360333",
            "7721313beb37488e9038a1f37dc1206f",
            "55fcdafb27e0487fa1df9b51c66ff542",
            "ac1a0cc1a3e846dd984565321a88defa",
            "bab4ebeae36a45b382fcb7fd77a26390",
            "051941978c3044eb9381f7b955023118",
            "4c96af906b8348ca88843c65777d71c1",
            "f96667a7e248461fbfb76082f50777ab",
            "171060112267499aa0b33b17a5f95193"
          ]
        },
        "id": "OUqZU2quJXja",
        "outputId": "97900d71-8654-4658-ea7b-d9e3efffb0ae"
      },
      "outputs": [
        {
          "output_type": "display_data",
          "data": {
            "text/plain": [
              "Map:   0%|          | 0/92 [00:00<?, ? examples/s]"
            ],
            "application/vnd.jupyter.widget-view+json": {
              "version_major": 2,
              "version_minor": 0,
              "model_id": "e8a5a2876fba41b9bdaa14ee886b8fa5"
            }
          },
          "metadata": {}
        },
        {
          "output_type": "display_data",
          "data": {
            "text/plain": [
              "<IPython.core.display.HTML object>"
            ],
            "text/html": [
              "\n",
              "    <div>\n",
              "      \n",
              "      <progress value='345' max='345' style='width:300px; height:20px; vertical-align: middle;'></progress>\n",
              "      [345/345 01:18, Epoch 15/15]\n",
              "    </div>\n",
              "    <table border=\"1\" class=\"dataframe\">\n",
              "  <thead>\n",
              " <tr style=\"text-align: left;\">\n",
              "      <th>Step</th>\n",
              "      <th>Training Loss</th>\n",
              "    </tr>\n",
              "  </thead>\n",
              "  <tbody>\n",
              "  </tbody>\n",
              "</table><p>"
            ]
          },
          "metadata": {}
        },
        {
          "output_type": "stream",
          "name": "stderr",
          "text": [
            "Some non-default generation parameters are set in the model config. These should go into a GenerationConfig file (https://huggingface.co/docs/transformers/generation_strategies#save-a-custom-decoding-strategy-with-your-model) instead. This warning will be raised to an exception in v4.41.\n",
            "Non-default generation parameters: {'early_stopping': True, 'num_beams': 4, 'no_repeat_ngram_size': 3, 'forced_bos_token_id': 0, 'forced_eos_token_id': 2}\n"
          ]
        },
        {
          "output_type": "execute_result",
          "data": {
            "text/plain": [
              "TrainOutput(global_step=345, training_loss=1.073295615375906, metrics={'train_runtime': 79.2054, 'train_samples_per_second': 17.423, 'train_steps_per_second': 4.356, 'total_flos': 105179539046400.0, 'train_loss': 1.073295615375906, 'epoch': 15.0})"
            ]
          },
          "metadata": {},
          "execution_count": 6
        }
      ],
      "source": [
        "from transformers import BartTokenizerFast, BartForConditionalGeneration, Seq2SeqTrainer, Seq2SeqTrainingArguments\n",
        "from datasets import Dataset\n",
        "\n",
        "# Define the Dataset\n",
        "data = [\n",
        "    {\"input_text\": \"Hi, enna eppadi irukeenga?\", \"target_text\": \"Nalla iruken, neenga eppadi irukeenga?\"},\n",
        "    {\"input_text\": \"Inga weather eppadi irukku?\", \"target_text\": \"Inga weather romba cool ah irukku.\"},\n",
        "    {\"input_text\": \"Neenga enna seireenga ippo?\", \"target_text\": \"Naan ippolaam TV paakuren.\"},\n",
        "    {\"input_text\": \"Unaku eppadi irukku?\", \"target_text\": \"Nalla iruku, thanks.\"},\n",
        "    {\"input_text\": \"anga tomato enna vilai?\", \"target_text\": \"40 rs nu ninaikiren\"},\n",
        "    {\"input_text\": \"Enakku idli venum.\", \"target_text\": \"Sari, idli kudukuren.\"},\n",
        "    {\"input_text\": \"Inga vara mudiyuma?\", \"target_text\": \"Mudiyum, naan inga thaan iruken.\"},\n",
        "    {\"input_text\": \"Enna sapteenga?\", \"target_text\": \"Naan dosa sapten.\"},\n",
        "    {\"input_text\": \"Romba naal achu paakave illa?\", \"target_text\": \"Aama, naanum adhe ninaikiren.\"},\n",
        "    {\"input_text\": \"Velaikku poga ready aachaa?\", \"target_text\": \"Ippo ready aaiduven.\"},\n",
        "    {\"input_text\": \"Naalaiku meeting iruka?\", \"target_text\": \"Aama, morning 10 manikku.\"},\n",
        "    {\"input_text\": \"Weekend plans enna?\", \"target_text\": \"Friends kooda outing poga poren.\"},\n",
        "    {\"input_text\": \"Inga internet speed eppadi irukku?\", \"target_text\": \"Sariyaa irukku, ozhunga work aagudhu.\"},\n",
        "    {\"input_text\": \"Ungaloda favorite movie enna?\", \"target_text\": \"Enakku Baasha pudikkum.\"},\n",
        "    {\"input_text\": \"Indha dress eppadi irukku?\", \"target_text\": \"Romba nalla irukku, unga mela suit aagudhu.\"},\n",
        "    {\"input_text\": \"Coffee venuma?\", \"target_text\": \"Aama, oru cup coffee kudunga.\"},\n",
        "    {\"input_text\": \"Ungaloda age enna?\", \"target_text\": \"Naan 28 vayasu.\"},\n",
        "    {\"input_text\": \"Enge irunthu vareenga?\", \"target_text\": \"Chennaikku irunthu varen.\"},\n",
        "    {\"input_text\": \"Neenga Tamil padam paapingala?\", \"target_text\": \"Aama, enakku Tamil padam romba pidikkum.\"},\n",
        "    {\"input_text\": \"Indha book pathi kelvi patheengala?\", \"target_text\": \"Aama, idhu romba popular book.\"},\n",
        "    {\"input_text\": \"Office la enna nadakkudhu?\", \"target_text\": \"Routine work dhan, edhuvum pudhu illa.\"},\n",
        "    {\"input_text\": \"Car repair aachaa?\", \"target_text\": \"Aama, repair panniduchu.\"},\n",
        "    {\"input_text\": \"Indha restaurant la food eppadi irukku?\", \"target_text\": \"Food nalla irukku, service super.\"},\n",
        "    {\"input_text\": \"Ungaloda phone model enna?\", \"target_text\": \"Naan iPhone use panren.\"},\n",
        "    {\"input_text\": \"Inga enga irukeenga?\", \"target_text\": \"Naan park kulla iruken.\"},\n",
        "    {\"input_text\": \"Ungaloda salary evalo?\", \"target_text\": \"Idhu personal matter, solla mudiyadhu.\"},\n",
        "    {\"input_text\": \"Neenga eppo vareenga?\", \"target_text\": \"Naalaiku morning vareen.\"},\n",
        "    {\"input_text\": \"Meeting mudiyaachu?\", \"target_text\": \"Aama, meeting ippo dhan mudinjudhu.\"},\n",
        "    {\"input_text\": \"Oru help venum.\", \"target_text\": \"Sure, enna help venum?\"},\n",
        "    {\"input_text\": \"Enakku coffee venum, ungalukku?\", \"target_text\": \"Naanum coffee kudikaren, coffee-a tharunga.\"},\n",
        "    {\"input_text\": \"Inga pothum, pothum, entha vishayam?\", \"target_text\": \"Aama, unakku epdi irukku?\"},\n",
        "    {\"input_text\": \"Vannamum enna?\", \"target_text\": \"Vannamum nalla, neenga eppadi irukeenga?\"},\n",
        "    {\"input_text\": \"Ithu eppadi irukku?\", \"target_text\": \"Ithu romba nalla irukku.\"},\n",
        "    {\"input_text\": \"Enna nadakkuthu?\", \"target_text\": \"Oru vela illa, everything is fine.\"},\n",
        "    {\"input_text\": \"Unga hometown enna?\", \"target_text\": \"Naan Chennai-iku, neenga?\"},\n",
        "    {\"input_text\": \"Thanglish la pesi paarunga.\", \"target_text\": \"Aama, naanum Thanglish la pesuren.\"},\n",
        "    {\"input_text\": \"Eppo varraanga?\", \"target_text\": \"Naalaiku afternoon varuven.\"},\n",
        "    {\"input_text\": \"Muthu vaanga, neenga enna paakraanga?\", \"target_text\": \"Naan TV paakraen, neenga?\"},\n",
        "    {\"input_text\": \"Dinner-la enna seiyalanu?\", \"target_text\": \"Naan biriyani seiyaporen, ungalukku?\"},\n",
        "    {\"input_text\": \"Enakku computer repair aachaa?\", \"target_text\": \"Aama, computer repair panniduchu.\"},\n",
        "    {\"input_text\": \"Agarbathi poduvaanga?\", \"target_text\": \"Aama, agarbathi poduvom.\"},\n",
        "    {\"input_text\": \"Enna plan paakareenga?\", \"target_text\": \"Naan oru movie paakaporen.\"},\n",
        "    {\"input_text\": \"Ithu correct-a irruka?\", \"target_text\": \"Aama, ithu correct-a irukku.\"},\n",
        "    {\"input_text\": \"Inga movie tickets edhavadhu available-a?\", \"target_text\": \"Aama, tickets available.\"},\n",
        "    {\"input_text\": \"Ungaloda favorite dish enna?\", \"target_text\": \"Enakku dosa pidikkum, neenga?\"},\n",
        "    {\"input_text\": \"Sundar, enna pesanum?\", \"target_text\": \"Sundar, naan pesikaren.\"},\n",
        "    {\"input_text\": \"Enna saapiduven?\", \"target_text\": \"Naan biriyani saapiduven.\"},\n",
        "    {\"input_text\": \"Ena oru help venum na?\", \"target_text\": \"Sure, enna help venum?\"},\n",
        "    {\"input_text\": \"Aama, naanum sariyaana paathirunga.\", \"target_text\": \"Sari, naanum paathirukiren.\"},\n",
        "    {\"input_text\": \"Aathu kaalathukku vara mudiyuma?\", \"target_text\": \"Aama, inga aathu kaalam mudiyum.\"},\n",
        "    {\"input_text\": \"Inga park edhavadhu veedu?\", \"target_text\": \"Park veedu, aana details paakaren.\"},\n",
        "    {\"input_text\": \"Dinner time enna?\", \"target_text\": \"Dinner time 8 mani.\"},\n",
        "    {\"input_text\": \"Unga favorite song enna?\", \"target_text\": \"Enakku 'Vinnaithandi Varuvaaya' song pidikkum.\"},\n",
        "    {\"input_text\": \"Yaarum vaanga mudiyuma?\", \"target_text\": \"Aama, avanga vaanga mudiyum.\"},\n",
        "    {\"input_text\": \"Inga bus stop edhavadhu?\", \"target_text\": \"Bus stop pakkaththil irukku.\"},\n",
        "    {\"input_text\": \"Mornings-la coffee pidikkuma?\", \"target_text\": \"Aama, coffee pidikkum.\"},\n",
        "    {\"input_text\": \"Enna paathiruven?\", \"target_text\": \"Naan paathirukiren.\"},\n",
        "    {\"input_text\": \"Enga kadha sollunga.\", \"target_text\": \"Enna kadha solla, naan sollikaren.\"},\n",
        "    {\"input_text\": \"Kaalai naal enna plan?\", \"target_text\": \"Kaalai naal outing plan irukku.\"},\n",
        "    {\"input_text\": \"Enakku lunch-la enna venum?\", \"target_text\": \"Lunch-la idly or dosa kudukka mudiyum.\"},\n",
        "    {\"input_text\": \"Inga rain varuma?\", \"target_text\": \"Ithu naal rain varum nu ninaikiren.\"},\n",
        "    {\"input_text\": \"Inga car parking edhavadhu irukku?\", \"target_text\": \"Aama, car parking veedu pakkaththil irukku.\"},\n",
        "    {\"input_text\": \"Naan eppo return panraen?\", \"target_text\": \"Naan oru week-la return panren.\"},\n",
        "    {\"input_text\": \"Sundar, enna pesanum?\", \"target_text\": \"Sundar, ungalukku enna venum?\"},\n",
        "    {\"input_text\": \"Ungaloda house edhavadhu?\", \"target_text\": \"Naan oru independent house-la irukken.\"},\n",
        "    {\"input_text\": \"Enna oru special occasion?\", \"target_text\": \"Oru birthday function irukku.\"},\n",
        "    {\"input_text\": \"Appa appo enna seiranga?\", \"target_text\": \"Appa oru movie paakraanga.\"},\n",
        "    {\"input_text\": \"Dinner-la enna venum?\", \"target_text\": \"Naan biriyani seiyaporen, ungalukku enna?\"},\n",
        "    {\"input_text\": \"Sundar, weather eppadi irukku?\", \"target_text\": \"Weather nalla, sunny irukku.\"},\n",
        "    {\"input_text\": \"Enakku video call venum\", \"target_text\": \"Sure, video call panrom.\"},\n",
        "    {\"input_text\": \"Naan eppadi contact panren?\", \"target_text\": \"Unakku email or phone number-a kodukkalaam.\"},\n",
        "    {\"input_text\": \"Athu enna vishayam?\", \"target_text\": \"Athu oru special offer on the product.\"},\n",
        "    {\"input_text\": \"Inga bus tickets edhavadhu?\", \"target_text\": \"Aama, bus tickets available.\"},\n",
        "    {\"input_text\": \"Kaalai breakfast enna seiyala?\", \"target_text\": \"Kaalai breakfast-la idli or dosa seiyaporen.\"},\n",
        "    {\"input_text\": \"Inga movie show timings enna?\", \"target_text\": \"Movie show timings evening 6-manikku.\"},\n",
        "    {\"input_text\": \"Ungaloda favorite place enna?\", \"target_text\": \"Enakku beach romba pidikkum.\"},\n",
        "    {\"input_text\": \"Enakku oru appointment venum\", \"target_text\": \"Sure, appointment fix panrom.\"},\n",
        "    {\"input_text\": \"Inga ATM edhavadhu?\", \"target_text\": \"ATM bank la irukku, pakkaththil.\"},\n",
        "    {\"input_text\": \"Neenga yoga paadikkaraanga?\", \"target_text\": \"Aama, naan yoga paadikkaren.\"},\n",
        "    {\"input_text\": \"Yaarum irukaana?\", \"target_text\": \"Aama, oru friend irukaanga.\"},\n",
        "    {\"input_text\": \"Naan eppo visit pannalaam?\", \"target_text\": \"Naanum next week visit panren.\"},\n",
        "    {\"input_text\": \"Enga velai edhavadhu?\", \"target_text\": \"Velai oru project work dhaan.\"},\n",
        "    {\"input_text\": \"Naan oru new book vaanginaen\", \"target_text\": \"Super, book romba interesting a irukkum.\"},\n",
        "    {\"input_text\": \"Coffee shop-la enna varieties irukku?\", \"target_text\": \"Coffee shop-la espresso, cappuccino irukku.\"},\n",
        "    {\"input_text\": \"Ungaloda car enna model?\", \"target_text\": \"Naan Honda City use panren.\"},\n",
        "    {\"input_text\": \"Enakku oru new phone venum\", \"target_text\": \"Sure, best options katti sollikuren.\"},\n",
        "    {\"input_text\": \"Naan eppadi reach panren?\", \"target_text\": \"Unakku phone number kodukkalaam.\"},\n",
        "    {\"input_text\": \"Inga nearby restaurants enna?\", \"target_text\": \"Nearby restaurants pakkaththil irukku, details paakaren.\"},\n",
        "    {\"input_text\": \"Sundar, enna enjoy pannitinga?\", \"target_text\": \"Naan movies paakaraen, neenga?\"},\n",
        "    {\"input_text\": \"Enna help venum nu sollunga?\", \"target_text\": \"Sure, enna help venum?\"},\n",
        "    {\"input_text\": \"Inga marketla edhavadhu new?\", \"target_text\": \"Aama, new arrivals irukku.\"},\n",
        "    {\"input_text\": \"Enakku iPad venum\", \"target_text\": \"Sure, iPad options katti sollikuren.\"}\n",
        "\n",
        "\n",
        "]\n",
        "\n",
        "# Convert to Dataset\n",
        "train_data = Dataset.from_list(data)\n",
        "\n",
        "# Load the tokenizer\n",
        "tokenizer = BartTokenizerFast.from_pretrained('facebook/bart-base')\n",
        "\n",
        "# Tokenize the Dataset\n",
        "def preprocess_function(examples):\n",
        "    inputs = tokenizer(examples['input_text'], max_length=128, truncation=True, padding='max_length')\n",
        "    targets = tokenizer(examples['target_text'], max_length=128, truncation=True, padding='max_length')\n",
        "    inputs['labels'] = targets['input_ids']\n",
        "    return inputs\n",
        "\n",
        "tokenized_dataset = train_data.map(preprocess_function, batched=True)\n",
        "\n",
        "# Load the model\n",
        "model = BartForConditionalGeneration.from_pretrained('facebook/bart-base')\n",
        "\n",
        "# Training Arguments\n",
        "training_args = Seq2SeqTrainingArguments(\n",
        "    output_dir='./results',\n",
        "    per_device_train_batch_size=4,\n",
        "    num_train_epochs=15,  # Increase the number of epochs if needed\n",
        "    learning_rate=5e-5,\n",
        "    save_total_limit=1\n",
        ")\n",
        "\n",
        "# Trainer\n",
        "trainer = Seq2SeqTrainer(\n",
        "    model=model,\n",
        "    args=training_args,\n",
        "    train_dataset=tokenized_dataset\n",
        ")\n",
        "\n",
        "# Train the model\n",
        "trainer.train()\n"
      ]
    },
    {
      "cell_type": "markdown",
      "source": [
        "#saving the model"
      ],
      "metadata": {
        "id": "nbSt8Uw4JmaU"
      }
    },
    {
      "cell_type": "code",
      "source": [
        "# Save the trained model and tokenizer\n",
        "model.save_pretrained('./my_bart_model')\n",
        "tokenizer.save_pretrained('./my_bart_model')\n"
      ],
      "metadata": {
        "colab": {
          "base_uri": "https://localhost:8080/"
        },
        "id": "TbB4aLpBJoIs",
        "outputId": "612d5c46-13f1-4ce3-f72b-e7c94931a7ba"
      },
      "execution_count": null,
      "outputs": [
        {
          "output_type": "stream",
          "name": "stderr",
          "text": [
            "Some non-default generation parameters are set in the model config. These should go into a GenerationConfig file (https://huggingface.co/docs/transformers/generation_strategies#save-a-custom-decoding-strategy-with-your-model) instead. This warning will be raised to an exception in v4.41.\n",
            "Non-default generation parameters: {'early_stopping': True, 'num_beams': 4, 'no_repeat_ngram_size': 3, 'forced_bos_token_id': 0, 'forced_eos_token_id': 2}\n"
          ]
        },
        {
          "output_type": "execute_result",
          "data": {
            "text/plain": [
              "('./my_bart_model/tokenizer_config.json',\n",
              " './my_bart_model/special_tokens_map.json',\n",
              " './my_bart_model/vocab.json',\n",
              " './my_bart_model/merges.txt',\n",
              " './my_bart_model/added_tokens.json',\n",
              " './my_bart_model/tokenizer.json')"
            ]
          },
          "metadata": {},
          "execution_count": 7
        }
      ]
    },
    {
      "cell_type": "markdown",
      "source": [
        "#Loading the Pretrained Model and Generating Responses"
      ],
      "metadata": {
        "id": "cSZbmKxoJ_az"
      }
    },
    {
      "cell_type": "code",
      "source": [
        "from transformers import BartTokenizerFast, BartForConditionalGeneration\n",
        "\n",
        "# Load the tokenizer and model\n",
        "tokenizer = BartTokenizerFast.from_pretrained('./my_bart_model')\n",
        "model = BartForConditionalGeneration.from_pretrained('./my_bart_model')\n",
        "\n",
        "# Function to generate responses\n",
        "def generate_response(input_text):\n",
        "    inputs = tokenizer(input_text, return_tensors='pt', max_length=128, truncation=True, padding='max_length')\n",
        "    outputs = model.generate(inputs['input_ids'], max_new_tokens=50, num_beams=5, early_stopping=True)\n",
        "    return tokenizer.decode(outputs[0], skip_special_tokens=True)\n",
        "\n",
        "print(\"Hi! I'm your Thanglish chatbot. Type 'quit' to exit.\")\n",
        "\n",
        "while True:\n",
        "    user_input = input(\"You: \")\n",
        "    if user_input.lower() == 'quit':\n",
        "        break\n",
        "    response = generate_response(user_input)\n",
        "    print(f\"Bot: {response}\")\n"
      ],
      "metadata": {
        "colab": {
          "base_uri": "https://localhost:8080/"
        },
        "id": "g5bTAbYhKLMz",
        "outputId": "0b13c72a-8ce9-423d-c5cf-c94c83013f37"
      },
      "execution_count": null,
      "outputs": [
        {
          "name": "stdout",
          "output_type": "stream",
          "text": [
            "Hi! I'm your Thanglish chatbot. Type 'quit' to exit.\n",
            "You: Thanglish la pesi paarunga.\n",
            "Bot: Aama, naanum Thanglish la pesuren.\n",
            "You: Sundar, enna pesanum?\n",
            "Bot: Sundar, naan pesikaren.\n",
            "You: Indha dress eppadi irukku?\n",
            "Bot: Romba nalla irukku, neenga?\n",
            "You: Unaku eppadi irukku?\n",
            "Bot: Nalla iruku, thanks.\n",
            "You: Unga favorite song enna?\n",
            "Bot: Enakku 'Vinnaithandi Varuvaaya' song pidikkum.\n",
            "You: nalaikku meet pannalaama\n",
            "Bot: Aama, naanum next week morning 10 manikku.\n",
            "You: neenga enga irukeenga?\n",
            "Bot: Naan park kulla iruken.\n",
            "You: park la enna panreenga\n",
            "Bot: Park la nalla panren.\n",
            "You: walking poringala\n",
            "Bot: walking poringala.\n",
            "You: sollunga walking poringala\n",
            "Bot: Aama, naan walking poringala.\n",
            "You: anga burger saapteengala\n",
            "Bot: 40 rs nu ninaikiren\n",
            "You: saptiya nu ketten puriyalaya\n",
            "Bot: Saptiya nu ketten puriyalaya.\n",
            "You: sollunga saaptiya\n",
            "Bot: sollikuren, naan saaptiya.\n",
            "You: en epdi pesureenga\n",
            "Bot: en epdi pesuren.\n",
            "You: adha neenga daan sollanum\n",
            "Bot: Naan solla, neenga?\n",
            "You: enakku teriyadhu neenga sollunga\n",
            "Bot: enakku teriyadhu neenga sollikuren.\n",
            "You: en boring ah erukku\n",
            "Bot: en oru special offer on the product.\n",
            "You: enna maadiri offer \n",
            "Bot: Sure, offer katti sollikuren.\n",
            "You: enna product offer la irukku\n",
            "Bot: Aama, product offer la irukku.\n",
            "You: adhu daan enna product\n",
            "Bot: Nalla irukku, neenga?\n",
            "You: byr\n",
            "Bot: byroutine work dhaan.\n",
            "You: bye\n",
            "Bot: Aama, thanks.\n",
            "You: quit\n"
          ]
        }
      ]
    }
  ]
}